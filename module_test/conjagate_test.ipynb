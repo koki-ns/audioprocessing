{
 "cells": [
  {
   "cell_type": "code",
   "execution_count": 5,
   "metadata": {},
   "outputs": [
    {
     "name": "stdout",
     "output_type": "stream",
     "text": [
      "[[[  510    70]\n",
      "  [   70    30]]\n",
      "\n",
      " [[17924  1400]\n",
      "  [ 1400   138]]\n",
      "\n",
      " [[  302  1212]\n",
      "  [ 1212 10547]]]\n",
      "[[[  510    70]\n",
      "  [   70    30]]\n",
      "\n",
      " [[17924  1400]\n",
      "  [ 1400   138]]\n",
      "\n",
      " [[  302  1212]\n",
      "  [ 1212 10547]]]\n"
     ]
    }
   ],
   "source": [
    "# 共役転置のテスト\n",
    "import numpy as np\n",
    "\n",
    "np.random.seed(0)\n",
    "# data = np.random.randn(2, 3, 4) + 1.j * np.random.randn(2, 3, 4)\n",
    "\n",
    "data = np.array([[[1, 22, 3, 4],[51, 61, 71, 81],[9, 10, 11, 0]], [[1, 2, 3, 4],[5, 0, 7, 8],[9, 101, 11, 12]]])\n",
    "data_transposed = np.transpose(data, axes=(1, 0, 2)).conj()\n",
    "\n",
    "# print(data.shape[2])\n",
    "# print(\"元の形状:\", data.shape) # 元の形状\n",
    "# print(\"共役転置後の形状:\", data_transposed.shape) # 共役転置後の形状\n",
    "\n",
    "# print(\"data:\\n\", data)\n",
    "# print(\"data_transposed:\\n\", data_transposed)\n",
    "\n",
    "print(np.einsum(\"mkt,knt->kmn\", data, data_transposed))\n",
    "print(np.einsum(\"mkt,nkt->kmn\", data, data))"
   ]
  },
  {
   "cell_type": "code",
   "execution_count": 9,
   "metadata": {},
   "outputs": [
    {
     "name": "stdout",
     "output_type": "stream",
     "text": [
      "[[ 2.00915975  1.69487424 -1.01399889  3.74840899]\n",
      " [-2.68739459  1.87113919 -2.38225911  8.81644514]\n",
      " [ 0.68945866  0.79837144 -0.71582427  2.01610662]\n",
      " [ 2.19573232  0.58686336  0.21825726 -0.13833845]\n",
      " [ 0.97266278  0.73221169 -0.41973874  1.51981438]\n",
      " [-2.25629267  0.32501827 -0.60489205  3.22958878]\n",
      " [-2.30446358 -0.1640343  -1.03792003  1.66795464]]\n",
      "[[ 2.00915975  1.69487424 -1.01399889  3.74840899]\n",
      " [-2.68739459  1.87113919 -2.38225911  8.81644514]\n",
      " [ 0.68945866  0.79837144 -0.71582427  2.01610662]\n",
      " [ 2.19573232  0.58686336  0.21825726 -0.13833845]\n",
      " [ 0.97266278  0.73221169 -0.41973874  1.51981438]\n",
      " [-2.25629267  0.32501827 -0.60489205  3.22958878]\n",
      " [-2.30446358 -0.1640343  -1.03792003  1.66795464]]\n"
     ]
    }
   ],
   "source": [
    "import numpy as np\n",
    "\n",
    "k = 7\n",
    "n = 3\n",
    "l = 4\n",
    "\n",
    "np.random.seed(0)\n",
    "kn = np.random.randn(7, 3)\n",
    "nl = np.random.randn(3, 4)\n",
    "ln = nl.transpose()\n",
    "print(np.einsum(\"kn,nl->kl\", kn, nl))\n",
    "print(np.einsum(\"kn,ln->kl\", kn, ln))"
   ]
  }
 ],
 "metadata": {
  "kernelspec": {
   "display_name": "Python 3",
   "language": "python",
   "name": "python3"
  },
  "language_info": {
   "codemirror_mode": {
    "name": "ipython",
    "version": 3
   },
   "file_extension": ".py",
   "mimetype": "text/x-python",
   "name": "python",
   "nbconvert_exporter": "python",
   "pygments_lexer": "ipython3",
   "version": "3.11.7"
  }
 },
 "nbformat": 4,
 "nbformat_minor": 2
}
