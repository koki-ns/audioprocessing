{
 "cells": [
  {
   "cell_type": "code",
   "execution_count": 5,
   "metadata": {},
   "outputs": [
    {
     "name": "stdout",
     "output_type": "stream",
     "text": [
      "[3.16227766 2.         3.60555128]\n",
      "3.1622776601683795 , 2.0 , 3.605551275463989\n"
     ]
    }
   ],
   "source": [
    "import numpy as np\n",
    "import math\n",
    "\n",
    "comp = np.array([3, 0, 2]) + 1.j*np.array([1, 2, 3])\n",
    "print(abs(comp))\n",
    "\n",
    "print(math.sqrt(3 * 3 + 1 * 1), \",\", math.sqrt(0 * 0 + 2 * 2 ), \",\", math.sqrt(2 * 2 + 3 * 3))\n",
    "\n"
   ]
  }
 ],
 "metadata": {
  "kernelspec": {
   "display_name": "Python 3",
   "language": "python",
   "name": "python3"
  },
  "language_info": {
   "codemirror_mode": {
    "name": "ipython",
    "version": 3
   },
   "file_extension": ".py",
   "mimetype": "text/x-python",
   "name": "python",
   "nbconvert_exporter": "python",
   "pygments_lexer": "ipython3",
   "version": "3.11.7"
  }
 },
 "nbformat": 4,
 "nbformat_minor": 2
}
