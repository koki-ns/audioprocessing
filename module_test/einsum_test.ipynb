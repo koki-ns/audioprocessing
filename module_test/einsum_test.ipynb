{
 "cells": [
  {
   "cell_type": "markdown",
   "metadata": {},
   "source": []
  },
  {
   "cell_type": "code",
   "execution_count": 10,
   "metadata": {},
   "outputs": [
    {
     "name": "stdout",
     "output_type": "stream",
     "text": [
      "shape(C):  (10, 5, 3, 3)\n",
      "A(0,0)B(0,0)=\n",
      " [[-0.49715528+1.60739814j -0.0430694 +2.13098867j  0.49058998+1.53302537j]\n",
      " [-0.40774965+1.27706091j -0.11232905+1.78980525j  0.30717926+1.39995875j]\n",
      " [-0.44493154+2.37398823j  0.59400714+1.73358933j  0.62369562+0.94900167j]]\n",
      "C(0,0)=\n",
      " [[-0.49715528+1.60739814j -0.0430694 +2.13098867j  0.49058998+1.53302537j]\n",
      " [-0.40774965+1.27706091j -0.11232905+1.78980525j  0.30717926+1.39995875j]\n",
      " [-0.44493154+2.37398823j  0.59400714+1.73358933j  0.62369562+0.94900167j]]\n",
      "A(1,0)B(0)=\n",
      " [[-0.23533694+0.78268847j -0.17078209+1.30230525j  0.05042859+0.85484699j]\n",
      " [-0.40177458+1.18676046j -0.02212538+1.24921025j  0.21693956+0.92260183j]\n",
      " [-0.80237055+1.37882522j  0.23479749+1.97831043j  0.56060585+1.08489447j]]\n",
      "C(1,0)=\n",
      " [[-0.23533694+0.78268847j -0.17078209+1.30230525j  0.05042859+0.85484699j]\n",
      " [-0.40177458+1.18676046j -0.02212538+1.24921025j  0.21693956+0.92260183j]\n",
      " [-0.80237055+1.37882522j  0.23479749+1.97831043j  0.56060585+1.08489447j]]\n",
      "[[ 35  44]\n",
      " [ 44  56]\n",
      " [ 99 132]]\n"
     ]
    },
    {
     "ename": "ValueError",
     "evalue": "operands could not be broadcast together with remapped shapes [original->remapped]: (3,3,1)->(3,1,3) (3,1,2)->(2,1,3) ",
     "output_type": "error",
     "traceback": [
      "\u001b[0;31m---------------------------------------------------------------------------\u001b[0m",
      "\u001b[0;31mValueError\u001b[0m                                Traceback (most recent call last)",
      "Cell \u001b[0;32mIn[10], line 46\u001b[0m\n\u001b[1;32m     43\u001b[0m Y \u001b[38;5;241m=\u001b[39m np\u001b[38;5;241m.\u001b[39marray([[[\u001b[38;5;241m1\u001b[39m,\u001b[38;5;241m2\u001b[39m]], [[\u001b[38;5;241m3\u001b[39m,\u001b[38;5;241m4\u001b[39m]], [[\u001b[38;5;241m5\u001b[39m,\u001b[38;5;241m6\u001b[39m]]])\n\u001b[1;32m     45\u001b[0m \u001b[38;5;28mprint\u001b[39m(np\u001b[38;5;241m.\u001b[39meinsum(\u001b[38;5;124m'\u001b[39m\u001b[38;5;124mism,ism->sm\u001b[39m\u001b[38;5;124m'\u001b[39m, X, Y))\n\u001b[0;32m---> 46\u001b[0m \u001b[38;5;28mprint\u001b[39m(\u001b[43mnp\u001b[49m\u001b[38;5;241;43m.\u001b[39;49m\u001b[43meinsum\u001b[49m\u001b[43m(\u001b[49m\u001b[38;5;124;43m'\u001b[39;49m\u001b[38;5;124;43mism,ims->sm\u001b[39;49m\u001b[38;5;124;43m'\u001b[39;49m\u001b[43m,\u001b[49m\u001b[43m \u001b[49m\u001b[43mX\u001b[49m\u001b[43m,\u001b[49m\u001b[43m \u001b[49m\u001b[43mY\u001b[49m\u001b[43m)\u001b[49m)\n\u001b[1;32m     48\u001b[0m X \u001b[38;5;241m=\u001b[39m np\u001b[38;5;241m.\u001b[39marray([[[\u001b[38;5;241m1\u001b[39m,\u001b[38;5;241m2\u001b[39m]], [[\u001b[38;5;241m3\u001b[39m,\u001b[38;5;241m4\u001b[39m]], [[\u001b[38;5;241m5\u001b[39m,\u001b[38;5;241m6\u001b[39m]]])\n\u001b[1;32m     49\u001b[0m Y \u001b[38;5;241m=\u001b[39m np\u001b[38;5;241m.\u001b[39marray([[[\u001b[38;5;241m1\u001b[39m,\u001b[38;5;241m2\u001b[39m]], [[\u001b[38;5;241m3\u001b[39m,\u001b[38;5;241m4\u001b[39m]], [[\u001b[38;5;241m5\u001b[39m,\u001b[38;5;241m6\u001b[39m]]])\n",
      "File \u001b[0;32m~/.pyenv/versions/3.11.7/lib/python3.11/site-packages/numpy/core/einsumfunc.py:1371\u001b[0m, in \u001b[0;36meinsum\u001b[0;34m(out, optimize, *operands, **kwargs)\u001b[0m\n\u001b[1;32m   1369\u001b[0m     \u001b[38;5;28;01mif\u001b[39;00m specified_out:\n\u001b[1;32m   1370\u001b[0m         kwargs[\u001b[38;5;124m'\u001b[39m\u001b[38;5;124mout\u001b[39m\u001b[38;5;124m'\u001b[39m] \u001b[38;5;241m=\u001b[39m out\n\u001b[0;32m-> 1371\u001b[0m     \u001b[38;5;28;01mreturn\u001b[39;00m \u001b[43mc_einsum\u001b[49m\u001b[43m(\u001b[49m\u001b[38;5;241;43m*\u001b[39;49m\u001b[43moperands\u001b[49m\u001b[43m,\u001b[49m\u001b[43m \u001b[49m\u001b[38;5;241;43m*\u001b[39;49m\u001b[38;5;241;43m*\u001b[39;49m\u001b[43mkwargs\u001b[49m\u001b[43m)\u001b[49m\n\u001b[1;32m   1373\u001b[0m \u001b[38;5;66;03m# Check the kwargs to avoid a more cryptic error later, without having to\u001b[39;00m\n\u001b[1;32m   1374\u001b[0m \u001b[38;5;66;03m# repeat default values here\u001b[39;00m\n\u001b[1;32m   1375\u001b[0m valid_einsum_kwargs \u001b[38;5;241m=\u001b[39m [\u001b[38;5;124m'\u001b[39m\u001b[38;5;124mdtype\u001b[39m\u001b[38;5;124m'\u001b[39m, \u001b[38;5;124m'\u001b[39m\u001b[38;5;124morder\u001b[39m\u001b[38;5;124m'\u001b[39m, \u001b[38;5;124m'\u001b[39m\u001b[38;5;124mcasting\u001b[39m\u001b[38;5;124m'\u001b[39m]\n",
      "\u001b[0;31mValueError\u001b[0m: operands could not be broadcast together with remapped shapes [original->remapped]: (3,3,1)->(3,1,3) (3,1,2)->(2,1,3) "
     ]
    }
   ],
   "source": [
    "\"\"\"\n",
    "アインシュタインの縮約記法\n",
    "(\"全インデックス,全インデックス→和を取る変数を削除したインデックス\")\n",
    "のように記述する？\n",
    "2つの間で積をとって和にするインデックス\n",
    "単体の中で和にしてしまうインデックスを削除\n",
    "\n",
    "「計算後の1要素がどのような形になるか」から考えると考えやすい（？）\n",
    "\n",
    "\n",
    "\"\"\"\n",
    "\n",
    "import numpy as np\n",
    "\n",
    "np.random.seed(0)\n",
    "\n",
    "L = 10\n",
    "K = 5\n",
    "M = 3\n",
    "R = 3\n",
    "N = 3\n",
    "\n",
    "A = np.random.uniform(size=L*K*M*R)+np.random.uniform(size=L*K*M*R)*1.j\n",
    "A = np.reshape(A,(L,K,M,R))\n",
    "\n",
    "B = np.random.uniform(size=K*R*N) + np.random.uniform(size=K*R*N)*1.j\n",
    "B = np.reshape(B,(K, R, N))\n",
    "\n",
    "# print(A)\n",
    "# print(B)\n",
    "\n",
    "C = np.einsum(\"lkmr,krn->lkmn\", A, B)\n",
    "\n",
    "print(\"shape(C): \", np.shape(C))\n",
    "\n",
    "print(\"A(0,0)B(0,0)=\\n\", np.matmul(A[0,0,...], B[0,...]))\n",
    "print(\"C(0,0)=\\n\", C[0,0,...])\n",
    "\n",
    "print(\"A(1,0)B(0)=\\n\", np.matmul(A[1,0,...], B[0,...]))\n",
    "print(\"C(1,0)=\\n\", C[1,0,...])\n",
    "\n",
    "X = np.array([[[1],[2]],[[3],[4]],[[5],[6]]])\n",
    "Y = np.array([[[1,2]], [[3,4]], [[5,6]]])\n",
    "\n",
    "print(np.einsum('ism,ism->sm', X, Y))\n",
    "print(np.einsum('ism,ims->sm', X, Y))\n",
    "\n",
    "X = np.array([[[1,2]], [[3,4]], [[5,6]]])\n",
    "Y = np.array([[[1,2]], [[3,4]], [[5,6]]])\n",
    "\n",
    "print(np.einsum('ism,ism->sm', X, Y))\n",
    "print(np.einsum('ism,ims->sm', X, Y))\n",
    "\n",
    "# これは不可能\n",
    "# D = np.einsum(\"lkmr,krn->lkkmn\")\n",
    "\n",
    "X = np.array([[[1],[2],[11]],[[3],[4],[11]],[[5],[6],[11]]])\n",
    "Y = np.array([[[1,2]], [[3,4]], [[5,6]]])\n",
    "\n",
    "print(np.einsum('ism,ism->sm', X, Y))\n",
    "print(np.einsum('ism,ims->sm', X, Y))"
   ]
  }
 ],
 "metadata": {
  "kernelspec": {
   "display_name": "Python 3",
   "language": "python",
   "name": "python3"
  },
  "language_info": {
   "codemirror_mode": {
    "name": "ipython",
    "version": 3
   },
   "file_extension": ".py",
   "mimetype": "text/x-python",
   "name": "python",
   "nbconvert_exporter": "python",
   "pygments_lexer": "ipython3",
   "version": "3.11.7"
  }
 },
 "nbformat": 4,
 "nbformat_minor": 2
}
