{
 "cells": [
  {
   "cell_type": "code",
   "execution_count": 2,
   "metadata": {},
   "outputs": [],
   "source": [
    "import wave as wave\n",
    "import pyroomacoustics as pa\n",
    "import numpy as np\n",
    "\n",
    "n_sample = 480000\n",
    "sample_rate = 16000\n",
    "\n",
    "np.random.seed(0)\n",
    "data = np.random.normal(size=n_sample)\n",
    "data = (data * np.iinfo(np.int16).max).astype(np.int16)\n",
    "\n",
    "wave_out = wave.open(\"./white_noise.wav\", \"w\")\n",
    "\n",
    "wave_out.setnchannels(1)\n",
    "wave_out.setsampwidth(2)\n",
    "wave_out.setframerate(sample_rate)\n",
    "\n",
    "wave_out.writeframes(data)\n",
    "wave_out.close()"
   ]
  },
  {
   "cell_type": "code",
   "execution_count": null,
   "metadata": {},
   "outputs": [],
   "source": [
    "import wave as wave\n",
    "import numpy as np\n",
    "\n",
    "n_sample = 480000\n",
    "sample_rate = 16000\n",
    "\n",
    "\n",
    "\n",
    "wave_out = wave.open(\"./white_noise.wav\", \"w\")\n",
    "\n",
    "wave_out.setnchannels(1)\n",
    "wave_out.setsampwidth(2)\n",
    "wave_out.setframerate(sample_rate)\n",
    "\n",
    "wave_out.writeframes(data)\n",
    "wave_out.close()"
   ]
  }
 ],
 "metadata": {
  "kernelspec": {
   "display_name": "Python 3",
   "language": "python",
   "name": "python3"
  },
  "language_info": {
   "codemirror_mode": {
    "name": "ipython",
    "version": 3
   },
   "file_extension": ".py",
   "mimetype": "text/x-python",
   "name": "python",
   "nbconvert_exporter": "python",
   "pygments_lexer": "ipython3",
   "version": "3.10.8"
  },
  "orig_nbformat": 4
 },
 "nbformat": 4,
 "nbformat_minor": 2
}
