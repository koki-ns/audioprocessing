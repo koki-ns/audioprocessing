{
 "cells": [
  {
   "cell_type": "code",
   "execution_count": 2,
   "metadata": {},
   "outputs": [],
   "source": [
    "import wave as wave\n",
    "import pyroomacoustics as pa\n",
    "import numpy as np\n",
    "\n",
    "n_sample = 480000\n",
    "sample_rate = 16000\n",
    "\n",
    "np.random.seed(0)\n",
    "data = np.random.normal(size=n_sample)\n",
    "data = (data * np.iinfo(np.int16).max).astype(np.int16)\n",
    "\n",
    "wave_out = wave.open(\"./white_noise.wav\", \"w\")\n",
    "\n",
    "wave_out.setnchannels(1)\n",
    "wave_out.setsampwidth(2)\n",
    "wave_out.setframerate(sample_rate)\n",
    "\n",
    "wave_out.writeframes(data)\n",
    "wave_out.close()"
   ]
  },
  {
   "cell_type": "code",
   "execution_count": 9,
   "metadata": {},
   "outputs": [],
   "source": [
    "import wave as wave\n",
    "import numpy as np\n",
    "\n",
    "frequency = 500\n",
    "n_sample = 480000\n",
    "sample_rate = 16000\n",
    "\n",
    "t = np.linspace(0, 30, int(n_sample), endpoint=False)\n",
    "\n",
    "data = np.iinfo(np.int16).max * np.sin(2 * np.pi * frequency * t)\n",
    "data = data.astype(np.int16)\n",
    "\n",
    "wave_out = wave.open(\"./500.wav\", \"w\")\n",
    "\n",
    "wave_out.setnchannels(1)\n",
    "wave_out.setsampwidth(2)\n",
    "wave_out.setframerate(sample_rate)\n",
    "\n",
    "wave_out.writeframes(data)\n",
    "wave_out.close()"
   ]
  },
  {
   "cell_type": "code",
   "execution_count": 6,
   "metadata": {},
   "outputs": [],
   "source": [
    "import numpy as np\n",
    "import wave\n",
    "\n",
    "# 信号のパラメータ設定\n",
    "frequency = 440  # 周波数（ヘルツ）\n",
    "sampling_rate = 44100  # サンプリングレート（サンプル/秒）\n",
    "duration = 5  # 持続時間（秒）\n",
    "amplitude = 32767  # 振幅\n",
    "\n",
    "# 時間軸の生成\n",
    "t = np.linspace(0, duration, int(sampling_rate * duration), endpoint=False)\n",
    "\n",
    "# 信号データの生成\n",
    "signal = amplitude * np.sin(2 * np.pi * frequency * t)\n",
    "\n",
    "# 信号データを16ビットPCMフォーマットに変換\n",
    "signal = signal.astype(np.int16)\n",
    "\n",
    "# WAVファイルに信号データを書き込む\n",
    "with wave.open(\"sine_wave.wav\", \"w\") as wf:\n",
    "    wf.setnchannels(1)  # モノラル\n",
    "    wf.setsampwidth(2)  # サンプル幅（バイト数）\n",
    "    wf.setframerate(sampling_rate)  # サンプリングレート\n",
    "    wf.writeframes(signal.tobytes())  # バイトデータとして書き込む"
   ]
  }
 ],
 "metadata": {
  "kernelspec": {
   "display_name": "Python 3",
   "language": "python",
   "name": "python3"
  },
  "language_info": {
   "codemirror_mode": {
    "name": "ipython",
    "version": 3
   },
   "file_extension": ".py",
   "mimetype": "text/x-python",
   "name": "python",
   "nbconvert_exporter": "python",
   "pygments_lexer": "ipython3",
   "version": "3.11.7"
  },
  "orig_nbformat": 4
 },
 "nbformat": 4,
 "nbformat_minor": 2
}
