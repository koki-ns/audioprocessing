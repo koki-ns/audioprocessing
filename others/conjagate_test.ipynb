{
 "cells": [
  {
   "cell_type": "code",
   "execution_count": 8,
   "metadata": {},
   "outputs": [
    {
     "name": "stdout",
     "output_type": "stream",
     "text": [
      "4\n",
      "元の形状: (2, 3, 4)\n",
      "共役転置後の形状: (3, 2, 4)\n",
      "data:\n",
      " [[[ 1  2  3  4]\n",
      "  [ 5  6  7  8]\n",
      "  [ 9 10 11  0]]\n",
      "\n",
      " [[ 1  2  3  4]\n",
      "  [ 5  0  7  8]\n",
      "  [ 9 10 11 12]]]\n",
      "data_transposed:\n",
      " [[[ 1  2  3  4]\n",
      "  [ 1  2  3  4]]\n",
      "\n",
      " [[ 5  6  7  8]\n",
      "  [ 5  0  7  8]]\n",
      "\n",
      " [[ 9 10 11  0]\n",
      "  [ 9 10 11 12]]]\n",
      "[[506 470]\n",
      " [470 614]]\n"
     ]
    }
   ],
   "source": [
    "# 共役転置のテスト\n",
    "import numpy as np\n",
    "\n",
    "np.random.seed(0)\n",
    "# data = np.random.randn(2, 3, 4) + 1.j * np.random.randn(2, 3, 4)\n",
    "\n",
    "data = np.array([[[1, 2, 3, 4],[5, 6, 7, 8],[9, 10, 11, 0]], [[1, 2, 3, 4],[5, 0, 7, 8],[9, 10, 11, 12]]])\n",
    "data_transposed = np.transpose(data, axes=(1, 0, 2)).conj()\n",
    "\n",
    "print(data.shape[2])\n",
    "print(\"元の形状:\", data.shape) # 元の形状\n",
    "print(\"共役転置後の形状:\", data_transposed.shape) # 共役転置後の形状\n",
    "\n",
    "print(\"data:\\n\", data)\n",
    "print(\"data_transposed:\\n\", data_transposed)\n",
    "\n",
    "print(np.einsum(\"mkt,knt->mn\", data, data_transposed))"
   ]
  }
 ],
 "metadata": {
  "kernelspec": {
   "display_name": "Python 3",
   "language": "python",
   "name": "python3"
  },
  "language_info": {
   "codemirror_mode": {
    "name": "ipython",
    "version": 3
   },
   "file_extension": ".py",
   "mimetype": "text/x-python",
   "name": "python",
   "nbconvert_exporter": "python",
   "pygments_lexer": "ipython3",
   "version": "3.11.7"
  }
 },
 "nbformat": 4,
 "nbformat_minor": 2
}
