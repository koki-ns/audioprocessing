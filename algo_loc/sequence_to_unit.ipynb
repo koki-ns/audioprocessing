{
 "cells": [
  {
   "cell_type": "code",
   "execution_count": 19,
   "metadata": {},
   "outputs": [],
   "source": [
    "# 単純なCNN読み込みのために、各データをシーケンスから単体に分解する\n",
    "import numpy as np\n",
    "import os\n",
    "import glob\n",
    "\n",
    "# データとラベルを全て読み込む→ソートして全処理\n",
    "# シーケンス情報が失われるので、シーケンス内で標準化する必要があるかも？(まだやってない)\n",
    "def split_and_save_data(data_dirs, label_dirs, output_dir):\n",
    "  \"\"\"\n",
    "  L: シーケンス数\n",
    "  D: 方向数\n",
    "  F: 周波数ビン数\n",
    "  \"\"\"\n",
    "  data_paths = get_all_files_from_dirs(data_dirs)\n",
    "  label_paths = get_all_files_from_dirs(label_dirs)\n",
    "\n",
    "  data_paths.sort()\n",
    "  label_paths.sort()\n",
    "\n",
    "  for i in range(len(data_paths)):\n",
    "    data = np.load(data_paths[i])\n",
    "    labels = np.load(label_paths[i], allow_pickle=True)\n",
    "    input_filename = os.path.basename(data_paths[i])\n",
    "    input_filename = os.path.splitext(input_filename)[0]\n",
    "    L, D, F = data.shape\n",
    "\n",
    "    for j in range(L):\n",
    "      timestep_data = data[j]\n",
    "      label = labels[j]\n",
    "      \n",
    "      output_file = os.path.join(output_dir, label, f\"{input_filename}_timestep_{j}.npy\")\n",
    "      np.save(output_file, timestep_data)\n",
    "\n",
    "def get_all_files_from_dirs(directories, extension=\"*.npy\"):\n",
    "  all_files = []\n",
    "  for directory in directories:\n",
    "    files = glob.glob(os.path.join(directory, extension))\n",
    "    all_files.extend(files)\n",
    "\n",
    "  return all_files\n"
   ]
  },
  {
   "cell_type": "code",
   "execution_count": 20,
   "metadata": {},
   "outputs": [],
   "source": [
    "data_dirs = [\"/home/nishimura-k/audioprocessing/datas/npy_MUSIC/EF/EF_ltor_150_0to59\", \"/home/nishimura-k/audioprocessing/datas/npy_MUSIC/EF/EF_rtol_150_0to59\"]\n",
    "label_dirs = [\"/home/nishimura-k/audioprocessing/datas/npy_AREA_label/EF/EF_ltor_150_0to59\", \"/home/nishimura-k/audioprocessing/datas/npy_AREA_label/EF/EF_rtol_150_0to59\"]\n",
    "output_dir = \"/home/nishimura-k/audioprocessing/datas_mono\"\n",
    "split_and_save_data(data_dirs, label_dirs, output_dir)"
   ]
  },
  {
   "cell_type": "code",
   "execution_count": 23,
   "metadata": {},
   "outputs": [],
   "source": [
    "# データを標準化\n",
    "parent_data_dir = \"/home/nishimura-k/audioprocessing/datas_mono\"\n",
    "labels = [\"none\", \"left\", \"center\", \"right\"]\n",
    "data_label_dirs = [os.path.join(parent_data_dir, label) for label in labels]\n",
    "standarized_data_dir = \"/home/nishimura-k/audioprocessing/datas_mono_st\"\n",
    "\n",
    "files = get_all_files_from_dirs(data_label_dirs)\n",
    "\n",
    "all_data = []\n",
    "for file in files:\n",
    "  data = np.load(file)\n",
    "  all_data.extend(data.flatten())\n",
    "\n",
    "all_data = np.array(all_data)\n",
    "mean = np.mean(all_data)\n",
    "std = np.std(all_data)\n",
    "\n",
    "for label in labels:\n",
    "  data_label_dir = os.path.join(parent_data_dir, label)\n",
    "  standarized_data_label_dir = os.path.join(standarized_data_dir, label)\n",
    "\n",
    "  files = get_all_files_from_dirs([data_label_dir])\n",
    "  for file in files:\n",
    "    basename = os.path.basename(file)\n",
    "    data = np.load(file)\n",
    "    if std > 0:\n",
    "      data_st = (data - mean) / std\n",
    "    np.save(os.path.join(standarized_data_label_dir, basename), data_st)"
   ]
  },
  {
   "cell_type": "code",
   "execution_count": null,
   "metadata": {},
   "outputs": [],
   "source": []
  }
 ],
 "metadata": {
  "kernelspec": {
   "display_name": "Python 3",
   "language": "python",
   "name": "python3"
  },
  "language_info": {
   "codemirror_mode": {
    "name": "ipython",
    "version": 3
   },
   "file_extension": ".py",
   "mimetype": "text/x-python",
   "name": "python",
   "nbconvert_exporter": "python",
   "pygments_lexer": "ipython3",
   "version": "3.10.8"
  }
 },
 "nbformat": 4,
 "nbformat_minor": 2
}
