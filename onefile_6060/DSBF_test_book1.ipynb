{
 "cells": [
  {
   "cell_type": "code",
   "execution_count": 2,
   "metadata": {},
   "outputs": [
    {
     "name": "stdout",
     "output_type": "stream",
     "text": [
      "sample width: 2\n",
      "channel num: 4\n",
      "frames: 480704\n",
      "multi_data.shape: (4, 480704)\n",
      "(4, 257, 1879)\n"
     ]
    },
    {
     "name": "stderr",
     "output_type": "stream",
     "text": [
      "/tmp/ipykernel_1239/2750385847.py:96: ComplexWarning: Casting complex values to real discards the imaginary part\n",
      "  P_DS[set_num-1][i] = np.mean(aHRa / aHa)\n"
     ]
    },
    {
     "data": {
      "text/plain": [
       "Text(0.5, 0, 'Time[frame]')"
      ]
     },
     "execution_count": 2,
     "metadata": {},
     "output_type": "execute_result"
    },
    {
     "data": {
      "image/png": "[encoded data removed]",
      "text/plain": [
       "<Figure size 640x480 with 2 Axes>"
      ]
     },
     "metadata": {},
     "output_type": "display_data"
    }
   ],
   "source": [
    "import wave as wave\n",
    "import numpy as np\n",
    "import scipy.signal as sp\n",
    "import matplotlib.pyplot as plt\n",
    "\n",
    "def calc_array_manifold_vector(mic_alignments, theta, n_mic, n_bin, fs, N):\n",
    "    \"\"\"\n",
    "    a: i x n_mic x 1 x n_bin\n",
    "       方向数 x マイク数 x 1 x 周波数ビン数\n",
    "    \"\"\"\n",
    "    a = np.zeros((theta.shape[0], n_mic, 1, n_bin), dtype=np.complex64)\n",
    "    for i, th in enumerate(theta):\n",
    "        th = np.radians(th)\n",
    "        for k in range(n_bin):\n",
    "            fk = fs*k/N\n",
    "            for m in range(n_mic):\n",
    "                delay = mic_alignments[m][0]*np.sin(th)/c\n",
    "                a[i,m,0,k] = np.exp(-1j*2*np.pi*fk*delay)\n",
    "    return a\n",
    "\n",
    "def load_onefile(file_name):\n",
    "    \"\"\"\n",
    "    return M x frames ndarray\n",
    "    \"\"\"\n",
    "    wav = wave.open(file_name)\n",
    "    print(\"sample width:\", wav.getsampwidth())\n",
    "    print(\"channel num:\", wav.getnchannels())\n",
    "    print(\"frames:\", wav.getnframes())\n",
    "\n",
    "    M = wav.getnchannels()\n",
    "\n",
    "    data = wav.readframes(wav.getnframes())\n",
    "    data = np.frombuffer(data, dtype=np.int16)\n",
    "    data = data/np.iinfo(np.int16).max\n",
    "\n",
    "    multi_data = data.reshape(-1, M)\n",
    "    multi_data = np.transpose(multi_data)\n",
    "    print(\"multi_data.shape:\", multi_data.shape)\n",
    "\n",
    "    wav.close()\n",
    "\n",
    "    return multi_data\n",
    "\n",
    "dir_name = \"mic/\"\n",
    "png_name = \"DSBF.png\"\n",
    "n_mic  = 4\n",
    "n_src  = 1\n",
    "N      = 512\n",
    "window = \"hann\"\n",
    "d      = 0.01\n",
    "c      = 340\n",
    "freq_l = 800\n",
    "freq_h = 3000\n",
    "\n",
    "mic_alignments = np.array(\n",
    "    [\n",
    "        [-0.112, 0.0, 0.0],\n",
    "        [-0.075, 0.0, 0.0],\n",
    "        [-0.035, 0.0, 0.0],\n",
    "        [0.113, 0.0, 0.0],\n",
    "    ]\n",
    ")\n",
    "\n",
    "fs = 16000\n",
    "\n",
    "# 周波数ビンに変換\n",
    "k_l = int(freq_l/(fs/N))\n",
    "k_h = int(freq_h/(fs/N))\n",
    "\n",
    "file_name = \"sep_0.wav\"\n",
    "audio = load_onefile(file_name)\n",
    "\n",
    "f, t, X = sp.stft(audio, fs, window=window, nperseg=N)\n",
    "n_bin = X.shape[1]\n",
    "print(X.shape)\n",
    "\n",
    "frame_set = 50\n",
    "set_num = 1\n",
    "\n",
    "theta = np.linspace(-90.0, 90.0, 181)\n",
    "P_DS = np.zeros((X.shape[2] // 50, theta.shape[0]))\n",
    "a = calc_array_manifold_vector(mic_alignments, theta, n_mic, n_bin, fs, N)\n",
    "\n",
    "while set_num * frame_set < X.shape[2]:\n",
    "    X_trimed = X[:, :, (set_num-1)*frame_set:set_num*frame_set]\n",
    "    XH = np.conjugate(X_trimed)\n",
    "    XXH = np.einsum(\"mki,nki->mnki\", X_trimed, XH)\n",
    "    R = np.mean(XXH, axis=3)\n",
    "\n",
    "    for i, th in enumerate(theta):\n",
    "        aH = np.conjugate(a[i])\n",
    "        aHR = np.einsum(\"mik,mek->ek\", aH, R)\n",
    "        aHRa = np.einsum(\"ek,eik->k\", aHR, a[i])\n",
    "        aHa = np.einsum(\"mik,mik->k\", aH, a[i])\n",
    "        aHa = abs(aHa) * abs(aHa)\n",
    "        P_DS[set_num-1][i] = np.mean(aHRa / aHa)\n",
    "    \n",
    "    set_num = set_num + 1\n",
    "\n",
    "# 方向数 x 周波数インデックス数 x 時間軸　の3次元\n",
    "\n",
    "P_DS = 10*np.log10(P_DS)\n",
    "P_DS = P_DS.transpose()\n",
    "color_min = -90\n",
    "color_max = np.max(P_DS)\n",
    "plt.imshow(P_DS, interpolation=\"nearest\", aspect=\"auto\", extent=[0, P_DS.shape[1], -90, 90], vmin=color_min, vmax=color_max)\n",
    "plt.colorbar()\n",
    "plt.ylabel(\"Direction of Arrival\")\n",
    "plt.xlabel(\"Time[frame]\")"
   ]
  }
 ],
 "metadata": {
  "kernelspec": {
   "display_name": "Python 3",
   "language": "python",
   "name": "python3"
  },
  "language_info": {
   "codemirror_mode": {
    "name": "ipython",
    "version": 3
   },
   "file_extension": ".py",
   "mimetype": "text/x-python",
   "name": "python",
   "nbconvert_exporter": "python",
   "pygments_lexer": "ipython3",
   "version": "3.11.7"
  }
 },
 "nbformat": 4,
 "nbformat_minor": 2
}
