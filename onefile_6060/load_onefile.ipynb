{
 "cells": [
  {
   "cell_type": "code",
   "execution_count": 14,
   "metadata": {},
   "outputs": [
    {
     "name": "stdout",
     "output_type": "stream",
     "text": [
      "sample width: 2\n",
      "channel num: 4\n",
      "frames: 480704\n",
      "multi_data.shape: (4, 480704)\n"
     ]
    }
   ],
   "source": [
    "import wave as wave\n",
    "import numpy as np\n",
    "\n",
    "file_name = \"./sep_0.wav\"\n",
    "\n",
    "def load_onefile(file_name):\n",
    "    \"\"\"\n",
    "    return M x frames ndarray\n",
    "    \"\"\"\n",
    "    wav = wave.open(file_name)\n",
    "    print(\"sample width:\", wav.getsampwidth())\n",
    "    print(\"channel num:\", wav.getnchannels())\n",
    "    print(\"frames:\", wav.getnframes())\n",
    "\n",
    "    M = wav.getnchannels()\n",
    "\n",
    "    data = wav.readframes(wav.getnframes())\n",
    "    data = np.frombuffer(data, dtype=np.int16)\n",
    "    data = data/np.iinfo(np.int16).max\n",
    "\n",
    "    multi_data = data.reshape(-1, M)\n",
    "    multi_data = np.transpose(multi_data)\n",
    "    print(\"multi_data.shape:\", multi_data.shape)\n",
    "\n",
    "    wav.close()\n",
    "\n",
    "    return multi_data\n",
    "\n",
    "\n",
    "def write_file_from_time_signal(signal,file_name,sample_rate):\n",
    "    \"\"\"\n",
    "    2バイトに変換してファイルに保存\n",
    "    signal: time-domain 1d array (float)\n",
    "    file_name: 出力先のファイル名\n",
    "    sample_rate: サンプリングレート\n",
    "    \"\"\"\n",
    "    #2バイトのデータに変換\n",
    "    signal = signal * np.iinfo(np.int16).max\n",
    "    signal=signal.astype(np.int16)\n",
    "\n",
    "\n",
    "\n",
    "    #waveファイルに書き込む\n",
    "    wave_out = wave.open(file_name, 'w')\n",
    "\n",
    "    wave_out.setnchannels(1) #モノラル:1、ステレオ:2\n",
    "    wave_out.setsampwidth(2) #サンプルサイズ2byte\n",
    "    wave_out.setframerate(sample_rate)\n",
    "    wave_out.writeframes(signal)\n",
    "\n",
    "    #ファイルを閉じる\n",
    "    wave_out.close()\n",
    "\n",
    "\n",
    "\n",
    "multi_data = load_onefile(file_name)\n",
    "M = 4\n",
    "\n",
    "for m in range(M):\n",
    "    file_name = \"onefile_\" + str(m) + \".wav\"\n",
    "    write_file_from_time_signal(multi_data[m], file_name, sample_rate=16000)\n",
    "\n",
    "\n"
   ]
  }
 ],
 "metadata": {
  "kernelspec": {
   "display_name": "Python 3",
   "language": "python",
   "name": "python3"
  },
  "language_info": {
   "codemirror_mode": {
    "name": "ipython",
    "version": 3
   },
   "file_extension": ".py",
   "mimetype": "text/x-python",
   "name": "python",
   "nbconvert_exporter": "python",
   "pygments_lexer": "ipython3",
   "version": "3.11.7"
  }
 },
 "nbformat": 4,
 "nbformat_minor": 2
}
