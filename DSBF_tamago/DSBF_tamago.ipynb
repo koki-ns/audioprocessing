{
 "cells": [
  {
   "cell_type": "code",
   "execution_count": null,
   "metadata": {},
   "outputs": [],
   "source": [
    "import wave as wave\n",
    "import numpy as np\n",
    "import scipy.signal as sp\n",
    "import matplotlib.pyplot as plt\n",
    "\n",
    "def calc_array_manifold_vector(mic_alignments, theta, n_mic, n_bin, fs, N):\n",
    "    return\n",
    "\n",
    "def load_onefile(file_name):\n",
    "    \"\"\"\n",
    "    return M x frames ndarray\n",
    "    \"\"\"\n",
    "    wav = wave.open(file_name)\n",
    "    print(\"sample width:\", wav.getsampwidth())\n",
    "    print(\"channel num:\", wav.getnchannels())\n",
    "    print(\"frames:\", wav.getnframes())\n",
    "\n",
    "    M = wav.getnchannels()\n",
    "\n",
    "    data = wav.readframes(wav.getnframes())\n",
    "    data = np.frombuffer(data, dtype=np.int16)\n",
    "    data = data/np.iinfo(np.int16).max\n",
    "\n",
    "    multi_data = data.reshape(-1, M)\n",
    "    multi_data = np.transpose(multi_data)\n",
    "    print(\"multi_data.shape:\", multi_data.shape)\n",
    "\n",
    "    wav.close()\n",
    "\n",
    "    return multi_data\n",
    "\n"
   ]
  },
  {
   "cell_type": "code",
   "execution_count": null,
   "metadata": {},
   "outputs": [],
   "source": [
    "png_name = \"DSBF.png\"\n",
    "n_mic  = 8\n",
    "n_src  = 1\n",
    "N      = 512\n",
    "window = \"hann\"\n",
    "d      = 0.01\n",
    "c      = 340\n",
    "freq_l = 800\n",
    "freq_h = 3000\n",
    "\n",
    "mic_alignments = np.array(\n",
    "    [\n",
    "        [0.0, 0.0365, 0.0],\n",
    "        [0.0258, 0.0258, 0.0],\n",
    "        [0.0365, 0.0, 0.0],\n",
    "        [0.0258, -0.02580, 0.0],\n",
    "        [0.0, -0.0365, 0.0],\n",
    "        [-0.0258, -0.0258, 0.0],\n",
    "        [-0.0365, 0.0, 0.0],\n",
    "        [-0.0258, 0.0258, 0.0],\n",
    "    ]\n",
    ")"
   ]
  }
 ],
 "metadata": {
  "kernelspec": {
   "display_name": "Python 3",
   "language": "python",
   "name": "python3"
  },
  "language_info": {
   "name": "python",
   "version": "3.11.7"
  }
 },
 "nbformat": 4,
 "nbformat_minor": 2
}
